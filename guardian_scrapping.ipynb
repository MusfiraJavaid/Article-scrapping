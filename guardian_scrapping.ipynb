{
  "nbformat": 4,
  "nbformat_minor": 0,
  "metadata": {
    "colab": {
      "provenance": []
    },
    "kernelspec": {
      "name": "python3",
      "display_name": "Python 3"
    },
    "language_info": {
      "name": "python"
    }
  },
  "cells": [
    {
      "cell_type": "code",
      "source": [
        "!pip install selenium\n",
        "!apt-get update\n",
        "!apt install chromium-chromedriver -y\n",
        "import sys\n",
        "sys.path.insert(0, '/usr/lib/chromium-browser/chromedriver')"
      ],
      "metadata": {
        "colab": {
          "base_uri": "https://localhost:8080/"
        },
        "id": "72CAHzhf0akU",
        "outputId": "35d6e2b9-abfa-49a9-a095-c49e2b70b028"
      },
      "execution_count": null,
      "outputs": [
        {
          "output_type": "stream",
          "name": "stdout",
          "text": [
            "Requirement already satisfied: selenium in /usr/local/lib/python3.11/dist-packages (4.34.2)\n",
            "Requirement already satisfied: urllib3~=2.5.0 in /usr/local/lib/python3.11/dist-packages (from urllib3[socks]~=2.5.0->selenium) (2.5.0)\n",
            "Requirement already satisfied: trio~=0.30.0 in /usr/local/lib/python3.11/dist-packages (from selenium) (0.30.0)\n",
            "Requirement already satisfied: trio-websocket~=0.12.2 in /usr/local/lib/python3.11/dist-packages (from selenium) (0.12.2)\n",
            "Requirement already satisfied: certifi>=2025.6.15 in /usr/local/lib/python3.11/dist-packages (from selenium) (2025.7.14)\n",
            "Requirement already satisfied: typing_extensions~=4.14.0 in /usr/local/lib/python3.11/dist-packages (from selenium) (4.14.1)\n",
            "Requirement already satisfied: websocket-client~=1.8.0 in /usr/local/lib/python3.11/dist-packages (from selenium) (1.8.0)\n",
            "Requirement already satisfied: attrs>=23.2.0 in /usr/local/lib/python3.11/dist-packages (from trio~=0.30.0->selenium) (25.3.0)\n",
            "Requirement already satisfied: sortedcontainers in /usr/local/lib/python3.11/dist-packages (from trio~=0.30.0->selenium) (2.4.0)\n",
            "Requirement already satisfied: idna in /usr/local/lib/python3.11/dist-packages (from trio~=0.30.0->selenium) (3.10)\n",
            "Requirement already satisfied: outcome in /usr/local/lib/python3.11/dist-packages (from trio~=0.30.0->selenium) (1.3.0.post0)\n",
            "Requirement already satisfied: sniffio>=1.3.0 in /usr/local/lib/python3.11/dist-packages (from trio~=0.30.0->selenium) (1.3.1)\n",
            "Requirement already satisfied: wsproto>=0.14 in /usr/local/lib/python3.11/dist-packages (from trio-websocket~=0.12.2->selenium) (1.2.0)\n",
            "Requirement already satisfied: pysocks!=1.5.7,<2.0,>=1.5.6 in /usr/local/lib/python3.11/dist-packages (from urllib3[socks]~=2.5.0->selenium) (1.7.1)\n",
            "Requirement already satisfied: h11<1,>=0.9.0 in /usr/local/lib/python3.11/dist-packages (from wsproto>=0.14->trio-websocket~=0.12.2->selenium) (0.16.0)\n",
            "Hit:1 http://archive.ubuntu.com/ubuntu jammy InRelease\n",
            "Hit:2 http://archive.ubuntu.com/ubuntu jammy-updates InRelease\n",
            "Hit:3 http://archive.ubuntu.com/ubuntu jammy-backports InRelease\n",
            "Hit:4 https://cloud.r-project.org/bin/linux/ubuntu jammy-cran40/ InRelease\n",
            "Hit:5 https://developer.download.nvidia.com/compute/cuda/repos/ubuntu2204/x86_64  InRelease\n",
            "Hit:6 http://security.ubuntu.com/ubuntu jammy-security InRelease\n",
            "Hit:7 https://r2u.stat.illinois.edu/ubuntu jammy InRelease\n",
            "Hit:8 https://ppa.launchpadcontent.net/deadsnakes/ppa/ubuntu jammy InRelease\n",
            "Hit:9 https://ppa.launchpadcontent.net/graphics-drivers/ppa/ubuntu jammy InRelease\n",
            "Hit:10 https://ppa.launchpadcontent.net/ubuntugis/ppa/ubuntu jammy InRelease\n",
            "Reading package lists... Done\n",
            "W: Skipping acquire of configured file 'main/source/Sources' as repository 'https://r2u.stat.illinois.edu/ubuntu jammy InRelease' does not seem to provide it (sources.list entry misspelt?)\n",
            "Reading package lists... Done\n",
            "Building dependency tree... Done\n",
            "Reading state information... Done\n",
            "chromium-chromedriver is already the newest version (1:85.0.4183.83-0ubuntu2.22.04.1).\n",
            "0 upgraded, 0 newly installed, 0 to remove and 41 not upgraded.\n"
          ]
        }
      ]
    },
    {
      "cell_type": "code",
      "source": [
        "from selenium import webdriver\n",
        "from selenium.webdriver.chrome.options import Options\n",
        "from bs4 import BeautifulSoup\n",
        "import time"
      ],
      "metadata": {
        "id": "OHI0Sp140f7o"
      },
      "execution_count": null,
      "outputs": []
    },
    {
      "cell_type": "code",
      "source": [
        "options = Options()\n",
        "options.add_argument(\"--headless\")\n",
        "options.add_argument(\"--no-sandbox\")\n",
        "options.add_argument(\"--disable-dev-shm-usage\")\n",
        "\n",
        "driver = webdriver.Chrome(options=options)\n",
        "driver.get(\"https://www.theguardian.com/international\")\n",
        "time.sleep(3)\n",
        "\n",
        "html = driver.page_source\n",
        "driver.quit()\n",
        "\n",
        "# Print sample of HTML\n",
        "print(html[:2000])  # prints first 2000 characters of HTML\n"
      ],
      "metadata": {
        "colab": {
          "base_uri": "https://localhost:8080/"
        },
        "id": "oHgoWCjb4pb2",
        "outputId": "d0277403-dfa1-4733-94aa-0946dee6cd7c"
      },
      "execution_count": null,
      "outputs": [
        {
          "output_type": "stream",
          "name": "stdout",
          "text": [
            "<html lang=\"en\"><head>\n",
            "\t\t\t    <!-- Hello there, HTML enthusiast! -->\n",
            "\n",
            "\t\t\t\t<!-- DCR commit hash d1e3d084cf13c115135f48682bf13c8bfa91d4f7 -->\n",
            "\n",
            "                <title>Latest news, sport and opinion from the Guardian</title>\n",
            "                <meta name=\"description\" content=\"Latest international news, sport and comment from the Guardian\">\n",
            "\t\t\t\t<meta charset=\"utf-8\">\n",
            "\t\t\t\t<link rel=\"canonical\" href=\"https://www.theguardian.com\">\n",
            "\t\t\t\t<meta name=\"viewport\" content=\"width=device-width,minimum-scale=1,initial-scale=1\">\n",
            "                <meta name=\"theme-color\" content=\"#052962\">\n",
            "\t\t\t\t<link rel=\"manifest\" href=\"https://assets.guim.co.uk/static/frontend/manifest.json\">\n",
            "\t\t\t\t<link rel=\"apple-touch-icon\" href=\"https://assets.guim.co.uk/static/frontend/icons/homescreen/apple-touch-icon.svg\" sizes=\"any\">\n",
            "\t\t\t\t<link rel=\"apple-touch-icon\" href=\"https://assets.guim.co.uk/static/frontend/icons/homescreen/apple-touch-icon-512.png\" sizes=\"512x512\">\n",
            "\t\t\t\t<link rel=\"apple-touch-icon\" href=\"https://assets.guim.co.uk/static/frontend/icons/homescreen/apple-touch-icon-360.png\" sizes=\"360x360\">\n",
            "\t\t\t\t<link rel=\"apple-touch-icon\" href=\"https://assets.guim.co.uk/static/frontend/icons/homescreen/apple-touch-icon-240.png\" sizes=\"240x240\">\n",
            "\t\t\t\t<link rel=\"apple-touch-icon\" href=\"https://assets.guim.co.uk/static/frontend/icons/homescreen/apple-touch-icon-120.png\" sizes=\"120x120\">\n",
            "                <link rel=\"icon\" href=\"https://static.guim.co.uk/images/favicon-32x32.ico\">\n",
            "\n",
            "                <link rel=\"preconnect\" href=\"https://assets.guim.co.uk/\">\n",
            "<link rel=\"preconnect\" href=\"https://i.guim.co.uk\">\n",
            "<link rel=\"preconnect\" href=\"https://j.ophan.co.uk\">\n",
            "<link rel=\"preconnect\" href=\"https://ophan.theguardian.com\">\n",
            "<link rel=\"preconnect\" href=\"https://sourcepoint.theguardian.com\">\n",
            "                <link rel=\"dns-prefetch\" href=\"https://assets.guim.co.uk/\">\n",
            "<link rel=\"dns-prefetch\" href=\"https://i.guim.co.uk\">\n",
            "<link rel=\"dns-prefetch\" href=\"https://j.ophan.co.uk\">\n",
            "<link rel=\"dns-prefetch\" href=\"https://ophan.theguardian\n"
          ]
        }
      ]
    },
    {
      "cell_type": "code",
      "source": [
        "soup = BeautifulSoup(html, 'html.parser')\n",
        "\n",
        "# Find all article links on the homepage\n",
        "articles = soup.find_all('a', class_='u-faux-block-link__overlay js-headline-text')\n",
        "\n",
        "# Collect and print titles and URLs\n",
        "results = []\n",
        "for article in articles:\n",
        "    title = article.get_text().strip()\n",
        "    url = article['href']\n",
        "    results.append((title, url))\n",
        "\n",
        "print(f\"Total articles scraped: {len(results)}\")\n",
        "for i, (title, url) in enumerate(results[:10], 1):  # show only first 10\n",
        "    print(f\"{i}. {title}\\n   {url}\")\n"
      ],
      "metadata": {
        "colab": {
          "base_uri": "https://localhost:8080/"
        },
        "id": "r2oMjqSF43eZ",
        "outputId": "b1b8d43b-53b1-4aeb-9e44-4feee77d4c40"
      },
      "execution_count": null,
      "outputs": [
        {
          "output_type": "stream",
          "name": "stdout",
          "text": [
            "Total articles scraped: 0\n"
          ]
        }
      ]
    },
    {
      "cell_type": "code",
      "source": [
        "# Find all <a> tags and show first 20 with their class and text\n",
        "for a in soup.find_all('a', limit=20):\n",
        "    print(a.get('class'), '|', a.get_text(strip=True))\n"
      ],
      "metadata": {
        "colab": {
          "base_uri": "https://localhost:8080/"
        },
        "id": "lARnifa-4_Bd",
        "outputId": "952cfb46-0d4d-41ae-e074-9c2662f3d2d2"
      },
      "execution_count": null,
      "outputs": [
        {
          "output_type": "stream",
          "name": "stdout",
          "text": [
            "['dcr-1gpubb'] | Skip to main content\n",
            "['dcr-1gpubb'] | Skip to navigation\n",
            "['dcr-1nulcij'] | Support us\n",
            "['dcr-wsdjep'] | Support us\n",
            "['dcr-vxblrw'] | Print subscriptions\n",
            "['dcr-vxblrw'] | Newsletters\n",
            "['dcr-jtu8ju'] | Sign in\n",
            "['dcr-2yd10d'] | \n",
            "['dcr-2yd10d'] | \n",
            "['dcr-2yd10d'] | \n",
            "['dcr-2yd10d'] | \n",
            "['dcr-2yd10d'] | \n",
            "['dcr-2yd10d'] | \n",
            "['dcr-nvrwln'] | US edition\n",
            "['dcr-2hhtc4'] | UK edition\n",
            "['dcr-2hhtc4'] | Australia edition\n",
            "['dcr-2hhtc4'] | Europe edition\n",
            "['dcr-2hhtc4'] | International edition\n",
            "None | The Guardian - Back to homeThe Guardian\n",
            "['dcr-17fanw1'] | News\n"
          ]
        }
      ]
    },
    {
      "cell_type": "code",
      "source": [
        "for a in soup.find_all('a'):\n",
        "    text = a.get_text(strip=True)\n",
        "    href = a.get('href')\n",
        "    if text and href and '202' in href:  # Guardian articles usually have year in URL like /2025/...\n",
        "        print(text, '|', href)\n"
      ],
      "metadata": {
        "colab": {
          "base_uri": "https://localhost:8080/"
        },
        "id": "Gz_lzqf25IjZ",
        "outputId": "95578795-7225-4200-c091-33d18f6b74b1"
      },
      "execution_count": null,
      "outputs": [
        {
          "output_type": "stream",
          "name": "stdout",
          "text": [
            "Support us | https://support.theguardian.com/us/contribute?REFPVID=mdnlvg1qtdm50chgb72a&INTCMP=header_support_2025-05-12_PRICEANCHOR_HEADER__US_CONTROL&acquisitionData=%7B%22source%22%3A%22GUARDIAN_WEB%22%2C%22componentId%22%3A%22header_support_2025-05-12_PRICEANCHOR_HEADER__US_CONTROL%22%2C%22componentType%22%3A%22ACQUISITIONS_HEADER%22%2C%22campaignCode%22%3A%22header_support_2025-05-12_PRICEANCHOR_HEADER__US_CONTROL%22%2C%22abTests%22%3A%5B%7B%22name%22%3A%222025-05-12_PRICEANCHOR_HEADER__US%22%2C%22variant%22%3A%22CONTROL%22%7D%5D%2C%22referrerPageviewId%22%3A%22mdnlvg1qtdm50chgb72a%22%2C%22referrerUrl%22%3A%22https%3A%2F%2Fwww.theguardian.com%2Finternational%22%2C%22isRemote%22%3Atrue%7D\n",
            "Support us | https://support.theguardian.com/us/contribute?REFPVID=mdnlvg1qtdm50chgb72a&INTCMP=header_support_2025-05-12_PRICEANCHOR_HEADER__US_CONTROL&acquisitionData=%7B%22source%22%3A%22GUARDIAN_WEB%22%2C%22componentId%22%3A%22header_support_2025-05-12_PRICEANCHOR_HEADER__US_CONTROL%22%2C%22componentType%22%3A%22ACQUISITIONS_HEADER%22%2C%22campaignCode%22%3A%22header_support_2025-05-12_PRICEANCHOR_HEADER__US_CONTROL%22%2C%22abTests%22%3A%5B%7B%22name%22%3A%222025-05-12_PRICEANCHOR_HEADER__US%22%2C%22variant%22%3A%22CONTROL%22%7D%5D%2C%22referrerPageviewId%22%3A%22mdnlvg1qtdm50chgb72a%22%2C%22referrerUrl%22%3A%22https%3A%2F%2Fwww.theguardian.com%2Finternational%22%2C%22isRemote%22%3Atrue%7D\n",
            "IsraelIsrael committing genocide in Gaza, say Israel-based human rights groups | /world/2025/jul/28/israel-committing-genocide-in-gaza-say-israel-based-human-rights-groups\n",
            "Saudi ArabiaSaudi Arabia and France to lead UN push for recognising Palestinian statehood | /world/2025/jul/28/saudi-arabia-france-un-palestine-statehood\n",
            "ExplainedKey takeaways from Trump’s press Q&As in Scotland | /us-news/2025/jul/28/key-takeaways-donald-trump-keir-starmer-press-q-and-a-turnberry-scotland\n",
            "US politicsDemocrats demand Trump cut funding for controversial Gaza aid organization | /us-news/2025/jul/28/democrats-trump-gaza-humanitarian-foundation\n",
            "USJudge orders Trump administration to continue Medicaid funding to Planned Parenthood | /us-news/2025/jul/28/planned-parenthood-medicaid-ruling-trump\n",
            "Donald TrumpTrump uses press conference with Starmer to boost his golf business | /us-news/2025/jul/28/trump-uses-press-conference-with-starmer-to-boost-his-golfing-business\n",
            "AnalysisVon der Leyen ducks Trump’s trade blitz – but deal exposes EU’s faultlines | /world/2025/jul/28/von-der-leyen-ducks-trumps-trade-blitz-but-deal-exposes-eus-faultlines\n",
            "EU-US tariffsFive key takeaways from the trade deal | /us-news/2025/jul/28/eu-us-trade-deal-tariffs-european-union-five-key-takeaways\n",
            "Singing, dancing and a Cavapoo called ReggieHow England celebrated Euros glory | /football/2025/jul/28/how-england-women-side-celebrated-euro-2025-triumph\n",
            "Singing, dancing and a Cavapoo called ReggieHow England celebrated Euros glory | /football/2025/jul/28/how-england-women-side-celebrated-euro-2025-triumph\n",
            "……comments | /film/2025/jul/28/the-fantastic-four-first-steps-origins-movie-marvel-discuss-with-spoilers#comments\n",
            "……comments | /commentisfree/2025/jul/28/eu-capitulated-donald-trump-transatlantic-trade-war#comments\n",
            "……comments | /commentisfree/2025/jul/28/rupert-murdoch-donald-trump-press-freedom#comments\n",
            "……comments | /commentisfree/2025/jul/28/bullies-moral-lives-robert-reich#comments\n",
            "……comments | /commentisfree/2025/jul/28/what-counts-as-a-bad-day-is-subjective-but-ive-found-something-that-im-sure-annoys-absolutely-anyone#comments\n",
            "‘Feeling loved’How Wiegman turned Lionesses from also-rans to winners | /football/2025/jul/28/sarina-wiegman-england-tactics-coaching-euro-2025-winners\n",
            "EnglandWarrior Bronze pushes through pain to burnish her legend | /football/2025/jul/28/lucy-bronze-england-euro-2025-final-win-fractured-tibia-lionesses-legend\n",
            "Women's Football WeeklyLionesses reign again: the Euros final review | /football/audio/2025/jul/28/lionesses-reign-again-euro-2025-final-review-womens-football-weekly-podcast\n",
            "Take partShare your reactions to the Euro 2025 final | /football/2025/jul/28/share-your-reactions-to-the-euros-2025-final\n",
            "AnalysisPogacar’s rivals must work out how to defeat champion at top of his game | /sport/2025/jul/28/pogacars-rivals-must-work-out-how-to-defeat-a-champion-at-the-top-of-his-game\n",
            "‘Enjoy this moment’Pogacar fights off fatigue to savour Tour de France glory | /sport/2025/jul/27/tadej-pogacar-tour-de-france-2025-winner-final-stage-paris\n",
            "As it happenedAmy Sedghi's rolling report of stage three | /sport/live/2025/jul/28/tour-de-france-femmes-2025-stage-three-sets-lengthy-test-to-angers-live\n",
            "The man behind the maskWhy Gyökeres’s celebration keeps game guessing | /football/2025/jul/27/viktor-gyokeres-arsenal-celebration-transfer\n",
            "Football DailySign up and get our free email sent to your inbox | /info/2022/nov/14/football-daily-email-sign-up\n",
            "Women’s Euro 2025 | https://www.theguardian.com/football/women-s-euro-2025\n",
            "US immigrationDemocrat urges hearing into ‘human rights abuses’ at El Salvador megaprison | /us-news/2025/jul/28/el-salvador-cecot-investigation-hearing\n",
            "US immigrationDemocrat urges hearing into ‘human rights abuses’ at El Salvador megaprison | /us-news/2025/jul/28/el-salvador-cecot-investigation-hearing\n",
            "……comments | /culture/2025/jul/28/we-were-half-drunk-patrick-watson-on-covid-hit-and-spotify-record-breaker-je-te-laisserai-des-mots#comments\n",
            "……comments | /film/2025/jul/28/aliens-my-feelgood-movie#comments\n",
            "……comments | /books/2025/jul/28/poem-of-the-week-a-hundred-doors-by-michael-longley#comments\n",
            "……comments | /books/2025/jul/27/why-we-need-a-right-not-to-be-manipulated#comments\n",
            "……comments | /games/2025/jul/28/meet-the-new-james-bond-007-first-light-io-interactive#comments\n",
            "……comments | /food/2025/jul/28/quick-easy-halloumi-courgette-chickpea-fritters-recipe-rukmini-iyer#comments\n",
            "……comments | /food/2025/jul/28/black-chicken-green-coconut-rice-sri-lankan-summer-barbecue-recipes-cynthia-shanmugalingam#comments\n",
            "……comments | /food/2025/jul/27/how-to-make-piri-piri-chicken-recipe-felicity-cloake#comments\n",
            "……comments | /food/2025/jul/26/meera-sodha-malaysian-eggs-recipe-telur-masak-kicap#comments\n",
            "……comments | /lifeandstyle/2025/jul/26/tim-dowling-a-tribute-to-my-father-in-law-droll-master-of-mischief#comments\n",
            "……comments | /lifeandstyle/2025/jul/27/when-did-people-start-going-on-holiday#comments\n",
            "George HibberdI quit my job as a pilot because of the climate crisis. But we can transform aviation | /commentisfree/2025/jul/10/pilot-climate-crisis-aviation-industry-flying\n",
            "Israel committing genocide in Gaza, say Israel-based human rights groups | /world/2025/jul/28/israel-committing-genocide-in-gaza-say-israel-based-human-rights-groups\n",
            "Australia won’t receive Aukus nuclear submarines unless US doubles shipbuilding, admiral warns | /world/2025/jul/28/aukus-australia-nuclear-submarines-us-subs-navy-admiral\n",
            "Mastercard and Visa face backlash after hundreds of adult games removed from online stores Steam and Itch.io | /world/2025/jul/29/mastercard-visa-backlash-adult-games-removed-online-stores-steam-itchio-ntwnfb\n",
            "‘There’s an arrogance to the way they move around the city’: is it time for digital nomads like me to leave Lisbon? | /world/2025/jul/27/lisbon-portugal-digital-nomads-foreign-remote-workers-integration\n",
            "Von der Leyen ducks Trump’s trade blitz – but deal exposes EU’s faultlines | /world/2025/jul/28/von-der-leyen-ducks-trumps-trade-blitz-but-deal-exposes-eus-faultlines\n",
            "Christopher Nolan criticised for filming in occupied Western Sahara city | /world/2025/jul/28/christopher-nolan-criticised-for-filming-in-occupied-western-sahara-city\n",
            "Saudi Arabia and France to lead UN push for recognising Palestinian statehood | /world/2025/jul/28/saudi-arabia-france-un-palestine-statehood\n",
            "Mother of British victim of Air India crash left ‘heartbroken’ by casket error | /world/2025/jul/27/mother-of-british-victim-of-air-india-crash-left-heartbroken-by-casket-error\n",
            "‘Like my other half’: man mourns wife and children killed buying snacks amid Thailand-Cambodia clashes | /world/2025/jul/27/woman-and-children-killed-sisaket-thailand-cambodia-border-dispute\n",
            "Trump gives Russia ‘10 or 12’ days to move on Ukraine as ‘no progress made’ – as it happened | /world/live/2025/jul/28/european-leaders-eu-us-trump-tariff-trade-deal-reaction-spain-ukraine-europe-latest-updates-news\n",
            "Learn more | https://www.theguardian.com/info/2024/feb/28/what-is-the-deeply-read-list\n",
            "Pogacar’s rivals must work out how to defeat a champion at the top of his game | https://www.theguardian.com/sport/2025/jul/28/pogacars-rivals-must-work-out-how-to-defeat-a-champion-at-the-top-of-his-game\n",
            "Tilting at windmills? Trump’s claims about turbines fact-checked | https://www.theguardian.com/environment/2025/jul/28/are-trump-claims-about-wind-power-correct\n",
            "Man carrying home his gardening tools arrested by armed police in Manchester | https://www.theguardian.com/uk-news/2025/jul/28/man-allotment-gardening-tools-arrest-armed-police-manchester\n",
            "The EU has capitulated to Trump. But even this doesn’t buy an end to the transatlantic trade war | https://www.theguardian.com/commentisfree/2025/jul/28/eu-capitulated-donald-trump-transatlantic-trade-war\n",
            "Sidekick Starmer can’t get a word in as The Donald dominates world’s most one-sided double act | https://www.theguardian.com/politics/2025/jul/28/donald-trump-keir-starmer-one-sided-double-act\n",
            "How do we lead moral lives in an age of bullies? | https://www.theguardian.com/commentisfree/2025/jul/28/bullies-moral-lives-robert-reich\n",
            "Murdoch v Trump: why the flawed media titan could be the final protector of press freedom | https://www.theguardian.com/commentisfree/2025/jul/28/rupert-murdoch-donald-trump-press-freedom\n",
            "King of Kings by Scott Anderson review – how the last shah of Iran sealed his own fate | https://www.theguardian.com/books/2025/jul/28/king-of-kings-by-scott-anderson-review-how-the-last-shah-of-iran-sealed-his-own-fate\n",
            "Isak, Gyökeres and Ekitiké herald a new age of the center-forward | https://www.theguardian.com/football/2025/jul/28/center-forwards-isak-gyokeres-ekitike\n",
            "Key takeaways from Trump’s press Q&As in Scotland | https://www.theguardian.com/us-news/2025/jul/28/key-takeaways-donald-trump-keir-starmer-press-q-and-a-turnberry-scotland\n",
            "Women’s Euro 2025 | https://www.theguardian.com/football/women-s-euro-2025\n",
            "Tax strategy | https://uploads.guim.co.uk/2024/08/27/TAX_STRATEGY_FOR_THE_YEAR_ENDED_31_MARCH_2025.pdf\n"
          ]
        }
      ]
    },
    {
      "cell_type": "code",
      "source": [
        "from selenium import webdriver\n",
        "from selenium.webdriver.chrome.options import Options\n",
        "from bs4 import BeautifulSoup\n",
        "import time\n",
        "import csv\n",
        "\n",
        "# Set up headless browser\n",
        "options = Options()\n",
        "options.add_argument(\"--headless\")\n",
        "options.add_argument(\"--no-sandbox\")\n",
        "options.add_argument(\"--disable-dev-shm-usage\")\n",
        "\n",
        "driver = webdriver.Chrome(options=options)\n",
        "driver.get(\"https://www.theguardian.com/international\")\n",
        "time.sleep(3)\n",
        "\n",
        "html = driver.page_source\n",
        "driver.quit()\n",
        "\n",
        "# Parse HTML\n",
        "soup = BeautifulSoup(html, \"html.parser\")\n",
        "\n",
        "# Extract articles\n",
        "base_url = \"https://www.theguardian.com\"\n",
        "articles = []\n",
        "\n",
        "for a in soup.find_all(\"a\"):\n",
        "    href = a.get(\"href\")\n",
        "    text = a.get_text(strip=True)\n",
        "    if href and text:\n",
        "        if (\n",
        "            \"/202\" in href and\n",
        "            not href.endswith(\"#comments\") and\n",
        "            not href.startswith(\"https://support\") and\n",
        "            \"guardian.com\" in href\n",
        "        ):\n",
        "            articles.append((text, href))\n",
        "        elif (\n",
        "            \"/202\" in href and\n",
        "            not href.endswith(\"#comments\") and\n",
        "            href.startswith(\"/\")\n",
        "        ):\n",
        "            full_link = base_url + href\n",
        "            articles.append((text, full_link))\n",
        "\n",
        "# Remove duplicates\n",
        "articles = list(set(articles))\n",
        "\n",
        "# Save to CSV\n",
        "with open(\"guardian_articles.csv\", \"w\", newline=\"\", encoding=\"utf-8\") as file:\n",
        "    writer = csv.writer(file)\n",
        "    writer.writerow([\"Title\", \"URL\"])\n",
        "    writer.writerows(articles)\n",
        "\n",
        "print(f\"✅ Total articles saved: {len(articles)} to 'guardian_articles.csv'\")"
      ],
      "metadata": {
        "colab": {
          "base_uri": "https://localhost:8080/"
        },
        "id": "7AVDPVMS5aet",
        "outputId": "ee8e9b90-2f7f-4a9c-a206-5ac11bebe729"
      },
      "execution_count": null,
      "outputs": [
        {
          "output_type": "stream",
          "name": "stdout",
          "text": [
            "✅ Total articles saved: 42 to 'guardian_articles.csv'\n"
          ]
        }
      ]
    },
    {
      "cell_type": "code",
      "source": [
        "from google.colab import files\n",
        "files.download('guardian_articles.csv')\n"
      ],
      "metadata": {
        "id": "tF1EVEfX6nMY",
        "outputId": "2418d1a6-0cde-4abe-bb65-c1e51c29dc53",
        "colab": {
          "base_uri": "https://localhost:8080/",
          "height": 17
        }
      },
      "execution_count": null,
      "outputs": [
        {
          "output_type": "display_data",
          "data": {
            "text/plain": [
              "<IPython.core.display.Javascript object>"
            ],
            "application/javascript": [
              "\n",
              "    async function download(id, filename, size) {\n",
              "      if (!google.colab.kernel.accessAllowed) {\n",
              "        return;\n",
              "      }\n",
              "      const div = document.createElement('div');\n",
              "      const label = document.createElement('label');\n",
              "      label.textContent = `Downloading \"${filename}\": `;\n",
              "      div.appendChild(label);\n",
              "      const progress = document.createElement('progress');\n",
              "      progress.max = size;\n",
              "      div.appendChild(progress);\n",
              "      document.body.appendChild(div);\n",
              "\n",
              "      const buffers = [];\n",
              "      let downloaded = 0;\n",
              "\n",
              "      const channel = await google.colab.kernel.comms.open(id);\n",
              "      // Send a message to notify the kernel that we're ready.\n",
              "      channel.send({})\n",
              "\n",
              "      for await (const message of channel.messages) {\n",
              "        // Send a message to notify the kernel that we're ready.\n",
              "        channel.send({})\n",
              "        if (message.buffers) {\n",
              "          for (const buffer of message.buffers) {\n",
              "            buffers.push(buffer);\n",
              "            downloaded += buffer.byteLength;\n",
              "            progress.value = downloaded;\n",
              "          }\n",
              "        }\n",
              "      }\n",
              "      const blob = new Blob(buffers, {type: 'application/binary'});\n",
              "      const a = document.createElement('a');\n",
              "      a.href = window.URL.createObjectURL(blob);\n",
              "      a.download = filename;\n",
              "      div.appendChild(a);\n",
              "      a.click();\n",
              "      div.remove();\n",
              "    }\n",
              "  "
            ]
          },
          "metadata": {}
        },
        {
          "output_type": "display_data",
          "data": {
            "text/plain": [
              "<IPython.core.display.Javascript object>"
            ],
            "application/javascript": [
              "download(\"download_f034ab4d-df28-411b-aaae-7c8a896c8192\", \"guardian_articles.csv\", 7851)"
            ]
          },
          "metadata": {}
        }
      ]
    }
  ]
}